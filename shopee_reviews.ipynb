{
 "cells": [
  {
   "cell_type": "code",
   "execution_count": 9,
   "metadata": {},
   "outputs": [],
   "source": [
    "from snownlp import SnowNLP\n",
    "import pandas as pd\n",
    "\n",
    "shopee_data = pd.read_csv('shopeemall.csv')\n",
    "\n",
    "semantic = []\n",
    "for row in shopee_data.itertuples():\n",
    "    try:\n",
    "        s= SnowNLP(row.reviews)\n",
    "    \n",
    "        if s.sentiments > 0.5:\n",
    "            semantic.append(\"Positive\")\n",
    "        else:\n",
    "            semantic.append(\"Negative\")\n",
    "\n",
    "    except:\n",
    "        semantic.append(\"no data\")\n",
    "\n",
    "shopee_data['semantic'] = semantic\n",
    "\n",
    "result_reviews = shopee_data.groupby('product_name')['semantic'].value_counts().to_frame()\n",
    "result_reviews.to_csv('shopee_reviews.csv', encoding='utf-8')"
   ]
  },
  {
   "cell_type": "code",
   "execution_count": null,
   "metadata": {},
   "outputs": [],
   "source": []
  }
 ],
 "metadata": {
  "kernelspec": {
   "display_name": "Python 3",
   "language": "python",
   "name": "python3"
  },
  "language_info": {
   "codemirror_mode": {
    "name": "ipython",
    "version": 3
   },
   "file_extension": ".py",
   "mimetype": "text/x-python",
   "name": "python",
   "nbconvert_exporter": "python",
   "pygments_lexer": "ipython3",
   "version": "3.9.6"
  },
  "orig_nbformat": 4
 },
 "nbformat": 4,
 "nbformat_minor": 2
}
